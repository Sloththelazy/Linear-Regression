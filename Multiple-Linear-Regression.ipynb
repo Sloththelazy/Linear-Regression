{
 "cells": [
  {
   "cell_type": "code",
   "id": "initial_id",
   "metadata": {
    "collapsed": true,
    "ExecuteTime": {
     "end_time": "2024-06-13T12:25:28.847536Z",
     "start_time": "2024-06-13T12:25:28.352076Z"
    }
   },
   "source": [
    "import pandas as pd\n",
    "import numpy as np\n",
    "import matplotlib.pyplot as plt\n",
    "import seaborn as sns\n",
    "%matplotlib inline\n",
    "from sklearn.model_selection import train_test_split\n",
    "from sklearn.preprocessing import StandardScaler\n",
    "from sklearn.linear_model import LinearRegression\n",
    "from sklearn.model_selection import cross_val_score , KFold\n",
    "from sklearn.metrics import mean_squared_error, r2_score , mean_absolute_error\n",
    "import statsmodels.api as sm"
   ],
   "outputs": [],
   "execution_count": 2
  },
  {
   "metadata": {
    "ExecuteTime": {
     "end_time": "2024-06-13T12:25:29.482837Z",
     "start_time": "2024-06-13T12:25:29.471492Z"
    }
   },
   "cell_type": "code",
   "source": [
    "path = r'/Users/gulgulusingh/Documents/MLOPS/Dataset/economic_index.csv'\n",
    "df = pd.read_csv(path)"
   ],
   "id": "7adf7ebba9bc2a16",
   "outputs": [],
   "execution_count": 3
  },
  {
   "metadata": {
    "ExecuteTime": {
     "end_time": "2024-06-13T12:25:30.121671Z",
     "start_time": "2024-06-13T12:25:30.116653Z"
    }
   },
   "cell_type": "code",
   "source": "df.head()",
   "id": "c63511d3c0986ad5",
   "outputs": [
    {
     "data": {
      "text/plain": [
       "   Unnamed: 0  year  month  interest_rate  unemployment_rate  index_price\n",
       "0           0  2017     12           2.75                5.3         1464\n",
       "1           1  2017     11           2.50                5.3         1394\n",
       "2           2  2017     10           2.50                5.3         1357\n",
       "3           3  2017      9           2.50                5.3         1293\n",
       "4           4  2017      8           2.50                5.4         1256"
      ],
      "text/html": [
       "<div>\n",
       "<style scoped>\n",
       "    .dataframe tbody tr th:only-of-type {\n",
       "        vertical-align: middle;\n",
       "    }\n",
       "\n",
       "    .dataframe tbody tr th {\n",
       "        vertical-align: top;\n",
       "    }\n",
       "\n",
       "    .dataframe thead th {\n",
       "        text-align: right;\n",
       "    }\n",
       "</style>\n",
       "<table border=\"1\" class=\"dataframe\">\n",
       "  <thead>\n",
       "    <tr style=\"text-align: right;\">\n",
       "      <th></th>\n",
       "      <th>Unnamed: 0</th>\n",
       "      <th>year</th>\n",
       "      <th>month</th>\n",
       "      <th>interest_rate</th>\n",
       "      <th>unemployment_rate</th>\n",
       "      <th>index_price</th>\n",
       "    </tr>\n",
       "  </thead>\n",
       "  <tbody>\n",
       "    <tr>\n",
       "      <th>0</th>\n",
       "      <td>0</td>\n",
       "      <td>2017</td>\n",
       "      <td>12</td>\n",
       "      <td>2.75</td>\n",
       "      <td>5.3</td>\n",
       "      <td>1464</td>\n",
       "    </tr>\n",
       "    <tr>\n",
       "      <th>1</th>\n",
       "      <td>1</td>\n",
       "      <td>2017</td>\n",
       "      <td>11</td>\n",
       "      <td>2.50</td>\n",
       "      <td>5.3</td>\n",
       "      <td>1394</td>\n",
       "    </tr>\n",
       "    <tr>\n",
       "      <th>2</th>\n",
       "      <td>2</td>\n",
       "      <td>2017</td>\n",
       "      <td>10</td>\n",
       "      <td>2.50</td>\n",
       "      <td>5.3</td>\n",
       "      <td>1357</td>\n",
       "    </tr>\n",
       "    <tr>\n",
       "      <th>3</th>\n",
       "      <td>3</td>\n",
       "      <td>2017</td>\n",
       "      <td>9</td>\n",
       "      <td>2.50</td>\n",
       "      <td>5.3</td>\n",
       "      <td>1293</td>\n",
       "    </tr>\n",
       "    <tr>\n",
       "      <th>4</th>\n",
       "      <td>4</td>\n",
       "      <td>2017</td>\n",
       "      <td>8</td>\n",
       "      <td>2.50</td>\n",
       "      <td>5.4</td>\n",
       "      <td>1256</td>\n",
       "    </tr>\n",
       "  </tbody>\n",
       "</table>\n",
       "</div>"
      ]
     },
     "execution_count": 4,
     "metadata": {},
     "output_type": "execute_result"
    }
   ],
   "execution_count": 4
  },
  {
   "metadata": {},
   "cell_type": "markdown",
   "source": "# Data Preprocessing",
   "id": "cb3ce75df5849f24"
  },
  {
   "metadata": {
    "ExecuteTime": {
     "end_time": "2024-06-13T12:25:32.291234Z",
     "start_time": "2024-06-13T12:25:32.286445Z"
    }
   },
   "cell_type": "code",
   "source": [
    "#Drop the unnecessary columns like month and year \n",
    "df.drop(columns=['Unnamed: 0', 'year' , 'month'], inplace=True ,axis=1)"
   ],
   "id": "3cf5bc72d214ef1c",
   "outputs": [],
   "execution_count": 5
  },
  {
   "metadata": {
    "ExecuteTime": {
     "end_time": "2024-06-13T12:25:32.763693Z",
     "start_time": "2024-06-13T12:25:32.759171Z"
    }
   },
   "cell_type": "code",
   "source": "df.head()",
   "id": "5cfd0cfa3169c4f6",
   "outputs": [
    {
     "data": {
      "text/plain": [
       "   interest_rate  unemployment_rate  index_price\n",
       "0           2.75                5.3         1464\n",
       "1           2.50                5.3         1394\n",
       "2           2.50                5.3         1357\n",
       "3           2.50                5.3         1293\n",
       "4           2.50                5.4         1256"
      ],
      "text/html": [
       "<div>\n",
       "<style scoped>\n",
       "    .dataframe tbody tr th:only-of-type {\n",
       "        vertical-align: middle;\n",
       "    }\n",
       "\n",
       "    .dataframe tbody tr th {\n",
       "        vertical-align: top;\n",
       "    }\n",
       "\n",
       "    .dataframe thead th {\n",
       "        text-align: right;\n",
       "    }\n",
       "</style>\n",
       "<table border=\"1\" class=\"dataframe\">\n",
       "  <thead>\n",
       "    <tr style=\"text-align: right;\">\n",
       "      <th></th>\n",
       "      <th>interest_rate</th>\n",
       "      <th>unemployment_rate</th>\n",
       "      <th>index_price</th>\n",
       "    </tr>\n",
       "  </thead>\n",
       "  <tbody>\n",
       "    <tr>\n",
       "      <th>0</th>\n",
       "      <td>2.75</td>\n",
       "      <td>5.3</td>\n",
       "      <td>1464</td>\n",
       "    </tr>\n",
       "    <tr>\n",
       "      <th>1</th>\n",
       "      <td>2.50</td>\n",
       "      <td>5.3</td>\n",
       "      <td>1394</td>\n",
       "    </tr>\n",
       "    <tr>\n",
       "      <th>2</th>\n",
       "      <td>2.50</td>\n",
       "      <td>5.3</td>\n",
       "      <td>1357</td>\n",
       "    </tr>\n",
       "    <tr>\n",
       "      <th>3</th>\n",
       "      <td>2.50</td>\n",
       "      <td>5.3</td>\n",
       "      <td>1293</td>\n",
       "    </tr>\n",
       "    <tr>\n",
       "      <th>4</th>\n",
       "      <td>2.50</td>\n",
       "      <td>5.4</td>\n",
       "      <td>1256</td>\n",
       "    </tr>\n",
       "  </tbody>\n",
       "</table>\n",
       "</div>"
      ]
     },
     "execution_count": 6,
     "metadata": {},
     "output_type": "execute_result"
    }
   ],
   "execution_count": 6
  },
  {
   "metadata": {
    "ExecuteTime": {
     "end_time": "2024-06-13T12:25:33.289021Z",
     "start_time": "2024-06-13T12:25:33.285392Z"
    }
   },
   "cell_type": "code",
   "source": "df.isnull().sum() # to check the null values",
   "id": "f438669156eeea62",
   "outputs": [
    {
     "data": {
      "text/plain": [
       "interest_rate        0\n",
       "unemployment_rate    0\n",
       "index_price          0\n",
       "dtype: int64"
      ]
     },
     "execution_count": 7,
     "metadata": {},
     "output_type": "execute_result"
    }
   ],
   "execution_count": 7
  },
  {
   "metadata": {
    "ExecuteTime": {
     "end_time": "2024-06-13T12:25:34.588014Z",
     "start_time": "2024-06-13T12:25:33.880183Z"
    }
   },
   "cell_type": "code",
   "source": "sns.pairplot(df)",
   "id": "94f94681590e9c",
   "outputs": [
    {
     "name": "stderr",
     "output_type": "stream",
     "text": [
      "/opt/homebrew/anaconda3/lib/python3.11/site-packages/seaborn/_oldcore.py:1119: FutureWarning: use_inf_as_na option is deprecated and will be removed in a future version. Convert inf values to NaN before operating instead.\n",
      "  with pd.option_context('mode.use_inf_as_na', True):\n",
      "/opt/homebrew/anaconda3/lib/python3.11/site-packages/seaborn/_oldcore.py:1119: FutureWarning: use_inf_as_na option is deprecated and will be removed in a future version. Convert inf values to NaN before operating instead.\n",
      "  with pd.option_context('mode.use_inf_as_na', True):\n",
      "/opt/homebrew/anaconda3/lib/python3.11/site-packages/seaborn/_oldcore.py:1119: FutureWarning: use_inf_as_na option is deprecated and will be removed in a future version. Convert inf values to NaN before operating instead.\n",
      "  with pd.option_context('mode.use_inf_as_na', True):\n"
     ]
    },
    {
     "data": {
      "text/plain": [
       "<seaborn.axisgrid.PairGrid at 0x162ddaa10>"
      ]
     },
     "execution_count": 8,
     "metadata": {},
     "output_type": "execute_result"
    },
    {
     "data": {
      "text/plain": [
       "<Figure size 750x750 with 12 Axes>"
      ],
      "image/png": "[encoded data removed]"
     },
     "metadata": {},
     "output_type": "display_data"
    }
   ],
   "execution_count": 8
  },
  {
   "metadata": {
    "ExecuteTime": {
     "end_time": "2024-06-13T12:25:34.592183Z",
     "start_time": "2024-06-13T12:25:34.588868Z"
    }
   },
   "cell_type": "code",
   "source": "df.corr()",
   "id": "b5e2d6612b3aaee4",
   "outputs": [
    {
     "data": {
      "text/plain": [
       "                   interest_rate  unemployment_rate  index_price\n",
       "interest_rate           1.000000          -0.925814     0.935793\n",
       "unemployment_rate      -0.925814           1.000000    -0.922338\n",
       "index_price             0.935793          -0.922338     1.000000"
      ],
      "text/html": [
       "<div>\n",
       "<style scoped>\n",
       "    .dataframe tbody tr th:only-of-type {\n",
       "        vertical-align: middle;\n",
       "    }\n",
       "\n",
       "    .dataframe tbody tr th {\n",
       "        vertical-align: top;\n",
       "    }\n",
       "\n",
       "    .dataframe thead th {\n",
       "        text-align: right;\n",
       "    }\n",
       "</style>\n",
       "<table border=\"1\" class=\"dataframe\">\n",
       "  <thead>\n",
       "    <tr style=\"text-align: right;\">\n",
       "      <th></th>\n",
       "      <th>interest_rate</th>\n",
       "      <th>unemployment_rate</th>\n",
       "      <th>index_price</th>\n",
       "    </tr>\n",
       "  </thead>\n",
       "  <tbody>\n",
       "    <tr>\n",
       "      <th>interest_rate</th>\n",
       "      <td>1.000000</td>\n",
       "      <td>-0.925814</td>\n",
       "      <td>0.935793</td>\n",
       "    </tr>\n",
       "    <tr>\n",
       "      <th>unemployment_rate</th>\n",
       "      <td>-0.925814</td>\n",
       "      <td>1.000000</td>\n",
       "      <td>-0.922338</td>\n",
       "    </tr>\n",
       "    <tr>\n",
       "      <th>index_price</th>\n",
       "      <td>0.935793</td>\n",
       "      <td>-0.922338</td>\n",
       "      <td>1.000000</td>\n",
       "    </tr>\n",
       "  </tbody>\n",
       "</table>\n",
       "</div>"
      ]
     },
     "execution_count": 9,
     "metadata": {},
     "output_type": "execute_result"
    }
   ],
   "execution_count": 9
  },
  {
   "metadata": {
    "ExecuteTime": {
     "end_time": "2024-06-13T12:25:35.931575Z",
     "start_time": "2024-06-13T12:25:35.928780Z"
    }
   },
   "cell_type": "code",
   "source": [
    "# independent and dependent features\n",
    "X = df.iloc[: , :-1] # X = df[['interest_rate' , 'unemployment_rate']]\n",
    "Y = df.iloc[: , -1] # Y = df['index_price']"
   ],
   "id": "bd3a3ace62dee18d",
   "outputs": [],
   "execution_count": 10
  },
  {
   "metadata": {
    "ExecuteTime": {
     "end_time": "2024-06-13T12:25:37.085954Z",
     "start_time": "2024-06-13T12:25:37.082984Z"
    }
   },
   "cell_type": "code",
   "source": "X.shape",
   "id": "b92557e8ee2fe307",
   "outputs": [
    {
     "data": {
      "text/plain": [
       "(24, 2)"
      ]
     },
     "execution_count": 11,
     "metadata": {},
     "output_type": "execute_result"
    }
   ],
   "execution_count": 11
  },
  {
   "metadata": {
    "ExecuteTime": {
     "end_time": "2024-06-13T12:25:38.185582Z",
     "start_time": "2024-06-13T12:25:38.182760Z"
    }
   },
   "cell_type": "code",
   "source": "Y.shape",
   "id": "319802a0b50cf1bf",
   "outputs": [
    {
     "data": {
      "text/plain": [
       "(24,)"
      ]
     },
     "execution_count": 12,
     "metadata": {},
     "output_type": "execute_result"
    }
   ],
   "execution_count": 12
  },
  {
   "metadata": {},
   "cell_type": "markdown",
   "source": "Train and Test dataset Split ",
   "id": "5f3e1aa6cd03d5ab"
  },
  {
   "metadata": {
    "ExecuteTime": {
     "end_time": "2024-06-13T12:25:40.268961Z",
     "start_time": "2024-06-13T12:25:40.263887Z"
    }
   },
   "cell_type": "code",
   "source": "X_train ,X_test ,Y_train ,Y_test = train_test_split(X,Y,test_size=0.25 , random_state=42)",
   "id": "21c5c520b0bbaa46",
   "outputs": [],
   "execution_count": 13
  },
  {
   "metadata": {
    "ExecuteTime": {
     "end_time": "2024-06-13T12:25:40.990089Z",
     "start_time": "2024-06-13T12:25:40.987345Z"
    }
   },
   "cell_type": "code",
   "source": "X_train.shape",
   "id": "9e869eaf297b4c40",
   "outputs": [
    {
     "data": {
      "text/plain": [
       "(18, 2)"
      ]
     },
     "execution_count": 14,
     "metadata": {},
     "output_type": "execute_result"
    }
   ],
   "execution_count": 14
  },
  {
   "metadata": {},
   "cell_type": "markdown",
   "source": [
    "Absolutely! Let's talk about `sns.regplot()`.\n",
    "\n",
    "**Seaborn's regplot() Function**\n",
    "\n",
    "`sns.regplot()` is a versatile plotting function in the Seaborn data visualization library (built on top of Matplotlib). It is designed to help you visualize the relationship between two variables while also fitting and plotting a regression line.\n",
    "\n",
    "**Key Features**\n",
    "\n",
    "* **Scatterplot:**  The core of `regplot()` is a scatterplot where each point represents an observation with its x and y values.\n",
    "* **Regression Line:** The function automatically calculates and plots a linear regression line that best fits the data points. This line gives you a visual representation of the trend and strength of the relationship.\n",
    "* **Confidence Interval:** Optionally, you can add a shaded region around the regression line to represent a confidence interval. This gives you an idea of the uncertainty associated with the estimated regression line.\n",
    "* **Customizable:** `regplot()` offers a wide range of customization options, allowing you to control the appearance of the plot, including colors, markers, line styles, and more.\n",
    "* **Flexibility:** You can use `regplot()` for simple linear regression as well as higher-order polynomial regression, logistic regression, and locally weighted scatterplot smoothing (LOWESS).\n",
    "\n",
    "**Example Usage**\n",
    "\n",
    "```python\n",
    "import seaborn as sns\n",
    "import matplotlib.pyplot as plt\n",
    "\n",
    "# Sample data (replace with your own)\n",
    "x = [1, 2, 3, 4, 5]\n",
    "y = [3, 5, 6, 8, 10]\n",
    "\n",
    "# Create the regression plot\n",
    "sns.regplot(x=x, y=y)\n",
    "\n",
    "# Show the plot\n",
    "plt.show()\n",
    "```\n",
    "\n",
    "This will produce a scatterplot with a linear regression line overlaid.\n",
    "\n",
    "**Additional Options**\n",
    "\n",
    "Here are some useful parameters you can use with `regplot()`:\n",
    "\n",
    "* `order`: Fit a polynomial regression model (e.g., `order=2` for quadratic regression).\n",
    "* `ci`:  Set the confidence interval level (e.g., `ci=95` for a 95% confidence interval).\n",
    "* `marker`: Change the marker style for the scatterplot points.\n",
    "* `scatter_kws`: Pass a dictionary of keyword arguments to customize the scatterplot.\n",
    "* `line_kws`: Pass a dictionary of keyword arguments to customize the regression line.\n",
    "\n",
    "**Why Use regplot()?**\n",
    "\n",
    "* **Quick Visualization:** It provides a fast way to visualize the relationship between two variables and assess the fit of a regression model.\n",
    "* **Easy Interpretation:** The regression line and confidence interval offer a clear visual summary of the trend and uncertainty in the data.\n",
    "* **Built-in Regression:** You don't need to separately calculate and plot the regression line; it's all done for you.\n",
    "\n",
    "Let me know if you'd like more examples or want to explore specific customizations of `regplot()`!\n"
   ],
   "id": "3bcf3ba6d218a2e0"
  },
  {
   "metadata": {
    "ExecuteTime": {
     "end_time": "2024-06-13T12:25:43.219179Z",
     "start_time": "2024-06-13T12:25:43.108927Z"
    }
   },
   "cell_type": "code",
   "source": "sns.regplot(data=df, x='interest_rate', y='index_price')\n",
   "id": "febfe53a4faaf2c8",
   "outputs": [
    {
     "data": {
      "text/plain": [
       "<Axes: xlabel='interest_rate', ylabel='index_price'>"
      ]
     },
     "execution_count": 15,
     "metadata": {},
     "output_type": "execute_result"
    },
    {
     "data": {
      "text/plain": [
       "<Figure size 640x480 with 1 Axes>"
      ],
      "image/png": "[encoded data removed]"
     },
     "metadata": {},
     "output_type": "display_data"
    }
   ],
   "execution_count": 15
  },
  {
   "metadata": {
    "ExecuteTime": {
     "end_time": "2024-06-13T12:25:44.496604Z",
     "start_time": "2024-06-13T12:25:44.383613Z"
    }
   },
   "cell_type": "code",
   "source": "sns.regplot(data=df , x='unemployment_rate', y='index_price')",
   "id": "36de0e431426f76a",
   "outputs": [
    {
     "data": {
      "text/plain": [
       "<Axes: xlabel='unemployment_rate', ylabel='index_price'>"
      ]
     },
     "execution_count": 16,
     "metadata": {},
     "output_type": "execute_result"
    },
    {
     "data": {
      "text/plain": [
       "<Figure size 640x480 with 1 Axes>"
      ],
      "image/png": "[encoded data removed]"
     },
     "metadata": {},
     "output_type": "display_data"
    }
   ],
   "execution_count": 16
  },
  {
   "metadata": {
    "ExecuteTime": {
     "end_time": "2024-06-13T12:25:45.608576Z",
     "start_time": "2024-06-13T12:25:45.604184Z"
    }
   },
   "cell_type": "code",
   "source": [
    "scaler = StandardScaler()\n",
    "X_train = scaler.fit_transform(X_train)\n",
    "X_test = scaler.transform(X_test)"
   ],
   "id": "3d8d3441e884aef1",
   "outputs": [],
   "execution_count": 17
  },
  {
   "metadata": {
    "ExecuteTime": {
     "end_time": "2024-06-13T12:25:46.411526Z",
     "start_time": "2024-06-13T12:25:46.405614Z"
    }
   },
   "cell_type": "code",
   "source": [
    "regression = LinearRegression()\n",
    "regression.fit(X_train , Y_train)"
   ],
   "id": "7a75be740b1e2152",
   "outputs": [
    {
     "data": {
      "text/plain": [
       "LinearRegression()"
      ],
      "text/html": [
       "<style>#sk-container-id-1 {color: black;background-color: white;}#sk-container-id-1 pre{padding: 0;}#sk-container-id-1 div.sk-toggleable {background-color: white;}#sk-container-id-1 label.sk-toggleable__label {cursor: pointer;display: block;width: 100%;margin-bottom: 0;padding: 0.3em;box-sizing: border-box;text-align: center;}#sk-container-id-1 label.sk-toggleable__label-arrow:before {content: \"▸\";float: left;margin-right: 0.25em;color: #696969;}#sk-container-id-1 label.sk-toggleable__label-arrow:hover:before {color: black;}#sk-container-id-1 div.sk-estimator:hover label.sk-toggleable__label-arrow:before {color: black;}#sk-container-id-1 div.sk-toggleable__content {max-height: 0;max-width: 0;overflow: hidden;text-align: left;background-color: #f0f8ff;}#sk-container-id-1 div.sk-toggleable__content pre {margin: 0.2em;color: black;border-radius: 0.25em;background-color: #f0f8ff;}#sk-container-id-1 input.sk-toggleable__control:checked~div.sk-toggleable__content {max-height: 200px;max-width: 100%;overflow: auto;}#sk-container-id-1 input.sk-toggleable__control:checked~label.sk-toggleable__label-arrow:before {content: \"▾\";}#sk-container-id-1 div.sk-estimator input.sk-toggleable__control:checked~label.sk-toggleable__label {background-color: #d4ebff;}#sk-container-id-1 div.sk-label input.sk-toggleable__control:checked~label.sk-toggleable__label {background-color: #d4ebff;}#sk-container-id-1 input.sk-hidden--visually {border: 0;clip: rect(1px 1px 1px 1px);clip: rect(1px, 1px, 1px, 1px);height: 1px;margin: -1px;overflow: hidden;padding: 0;position: absolute;width: 1px;}#sk-container-id-1 div.sk-estimator {font-family: monospace;background-color: #f0f8ff;border: 1px dotted black;border-radius: 0.25em;box-sizing: border-box;margin-bottom: 0.5em;}#sk-container-id-1 div.sk-estimator:hover {background-color: #d4ebff;}#sk-container-id-1 div.sk-parallel-item::after {content: \"\";width: 100%;border-bottom: 1px solid gray;flex-grow: 1;}#sk-container-id-1 div.sk-label:hover label.sk-toggleable__label {background-color: #d4ebff;}#sk-container-id-1 div.sk-serial::before {content: \"\";position: absolute;border-left: 1px solid gray;box-sizing: border-box;top: 0;bottom: 0;left: 50%;z-index: 0;}#sk-container-id-1 div.sk-serial {display: flex;flex-direction: column;align-items: center;background-color: white;padding-right: 0.2em;padding-left: 0.2em;position: relative;}#sk-container-id-1 div.sk-item {position: relative;z-index: 1;}#sk-container-id-1 div.sk-parallel {display: flex;align-items: stretch;justify-content: center;background-color: white;position: relative;}#sk-container-id-1 div.sk-item::before, #sk-container-id-1 div.sk-parallel-item::before {content: \"\";position: absolute;border-left: 1px solid gray;box-sizing: border-box;top: 0;bottom: 0;left: 50%;z-index: -1;}#sk-container-id-1 div.sk-parallel-item {display: flex;flex-direction: column;z-index: 1;position: relative;background-color: white;}#sk-container-id-1 div.sk-parallel-item:first-child::after {align-self: flex-end;width: 50%;}#sk-container-id-1 div.sk-parallel-item:last-child::after {align-self: flex-start;width: 50%;}#sk-container-id-1 div.sk-parallel-item:only-child::after {width: 0;}#sk-container-id-1 div.sk-dashed-wrapped {border: 1px dashed gray;margin: 0 0.4em 0.5em 0.4em;box-sizing: border-box;padding-bottom: 0.4em;background-color: white;}#sk-container-id-1 div.sk-label label {font-family: monospace;font-weight: bold;display: inline-block;line-height: 1.2em;}#sk-container-id-1 div.sk-label-container {text-align: center;}#sk-container-id-1 div.sk-container {/* jupyter's `normalize.less` sets `[hidden] { display: none; }` but bootstrap.min.css set `[hidden] { display: none !important; }` so we also need the `!important` here to be able to override the default hidden behavior on the sphinx rendered scikit-learn.org. See: https://github.com/scikit-learn/scikit-learn/issues/21755 */display: inline-block !important;position: relative;}#sk-container-id-1 div.sk-text-repr-fallback {display: none;}</style><div id=\"sk-container-id-1\" class=\"sk-top-container\"><div class=\"sk-text-repr-fallback\"><pre>LinearRegression()</pre><b>In a Jupyter environment, please rerun this cell to show the HTML representation or trust the notebook. <br />On GitHub, the HTML representation is unable to render, please try loading this page with nbviewer.org.</b></div><div class=\"sk-container\" hidden><div class=\"sk-item\"><div class=\"sk-estimator sk-toggleable\"><input class=\"sk-toggleable__control sk-hidden--visually\" id=\"sk-estimator-id-1\" type=\"checkbox\" checked><label for=\"sk-estimator-id-1\" class=\"sk-toggleable__label sk-toggleable__label-arrow\">LinearRegression</label><div class=\"sk-toggleable__content\"><pre>LinearRegression()</pre></div></div></div></div></div>"
      ]
     },
     "execution_count": 18,
     "metadata": {},
     "output_type": "execute_result"
    }
   ],
   "execution_count": 18
  },
  {
   "metadata": {},
   "cell_type": "markdown",
   "source": "# Cross_Validation using cross_val_score",
   "id": "920fa2c2f23aa37c"
  },
  {
   "metadata": {},
   "cell_type": "markdown",
   "source": [
    "Absolutely! Let's dive into cross-validation using `cross_val_score` in scikit-learn.\n",
    "\n",
    "**What is Cross-Validation?**\n",
    "\n",
    "Cross-validation is a resampling procedure used to evaluate machine learning models and assess how well they generalize to new, unseen data. It helps to avoid overfitting (where a model performs well on training data but poorly on new data). \n",
    "\n",
    "The basic idea is to split your dataset into multiple subsets (folds), train the model on some folds, and then evaluate its performance on the remaining fold(s). This process is repeated multiple times, with different folds used for training and testing in each iteration.\n",
    "\n",
    "**`cross_val_score` in scikit-learn**\n",
    "\n",
    "The `cross_val_score` function in scikit-learn simplifies the process of performing cross-validation. It takes your model, your data, and a cross-validation strategy, and returns an array of scores calculated on the different folds.\n",
    "\n",
    "**How to Use `cross_val_score`**\n",
    "\n",
    "1. **Import Necessary Libraries:**\n",
    "   ```python\n",
    "   from sklearn.model_selection import cross_val_score\n",
    "   from sklearn.linear_model import LinearRegression # Or any other model\n",
    "   ```\n",
    "\n",
    "2. **Prepare Your Data:**\n",
    "   Make sure your data is split into features (`X`) and target variable (`y`).\n",
    "\n",
    "3. **Instantiate Your Model:**\n",
    "   ```python\n",
    "   model = LinearRegression()\n",
    "   ```\n",
    "\n",
    "4. **Choose a Cross-Validation Strategy:**\n",
    "   * `cv=5`: 5-fold cross-validation (the default)\n",
    "   * `cv=10`: 10-fold cross-validation\n",
    "   * `cv=KFold(n_splits=5, shuffle=True, random_state=0)`: More control over folding\n",
    "   * Other options like `StratifiedKFold` for imbalanced data\n",
    "\n",
    "5. **Call `cross_val_score`:**\n",
    "   ```python\n",
    "   scores = cross_val_score(model, X, y, cv=5, scoring='neg_mean_squared_error') # Or other scoring metric\n",
    "   ```\n",
    "   * The `scoring` parameter lets you choose the metric to evaluate (e.g., accuracy, mean squared error).\n",
    "\n",
    "6. **Analyze the Scores:**\n",
    "   ```python\n",
    "   print(\"Cross-Validation Scores:\", -scores) # Negate for MSE since it's negative in scikit-learn\n",
    "   print(\"Average Score:\", -scores.mean())\n",
    "   print(\"Standard Deviation:\", scores.std())\n",
    "   ```\n",
    "\n",
    "**Complete Example**\n",
    "\n",
    "```python\n",
    "from sklearn.model_selection import cross_val_score\n",
    "from sklearn.datasets import load_boston\n",
    "from sklearn.linear_model import LinearRegression\n",
    "from sklearn.model_selection import KFold\n",
    "\n",
    "# Load Data\n",
    "boston = load_boston()\n",
    "X, y = boston.data, boston.target\n",
    "\n",
    "# Create Model\n",
    "model = LinearRegression()\n",
    "\n",
    "# Define Cross-Validation Strategy\n",
    "cv = KFold(n_splits=5, shuffle=True, random_state=0)\n",
    "\n",
    "# Evaluate Model\n",
    "scores = cross_val_score(model, X, y, cv=cv, scoring='neg_mean_squared_error')\n",
    "\n",
    "# Report Results\n",
    "print(\"Cross-Validation Scores:\", -scores)\n",
    "print(\"Average MSE:\", -scores.mean())\n",
    "print(\"Standard Deviation:\", scores.std())\n",
    "```\n",
    "\n",
    "**Key Benefits of Cross-Validation**\n",
    "\n",
    "* **Robustness:**  Reduces the risk of overfitting and gives a more reliable estimate of how your model will perform on unseen data.\n",
    "* **Better Model Selection:** Helps you compare different models and choose the one that generalizes best.\n",
    "* **Hyperparameter Tuning:** Can be used with grid search or random search to find the best hyperparameters for your model.\n",
    "\n",
    "Let me know if you'd like to explore more advanced cross-validation techniques or have any specific scenarios you'd like to discuss!"
   ],
   "id": "881bc35932440fd7"
  },
  {
   "metadata": {},
   "cell_type": "markdown",
   "source": [
    "# Cross validation Strategies used in Sklearn cross-validation-algorithm\n",
    "\n",
    "In `cross_val_score`, the cross-validation strategy determines how your dataset is split into folds for training and testing during the cross-validation process. Scikit-learn provides a variety of built-in strategies as well as the flexibility to define your own custom strategy.\n",
    "\n",
    "**Built-in Cross-Validation Strategies**\n",
    "\n",
    "* **K-Folds (`KFold`)**: Divides the data into `k` folds. In each iteration, one fold is used for testing, and the remaining `k-1` folds are used for training. This is the default strategy when you pass an integer value to the `cv` parameter (e.g., `cv=5`).\n",
    "\n",
    "* **Stratified K-Folds (`StratifiedKFold`)**: Similar to K-Folds, but ensures that the distribution of classes (for classification problems) is approximately equal in each fold. Useful for imbalanced datasets.\n",
    "\n",
    "* **Leave One Out (`LeaveOneOut`)**:  Each sample is used as a test set once, while the remaining samples are used for training. This is computationally expensive but can be useful for small datasets.\n",
    "\n",
    "* **Shuffle Split (`ShuffleSplit`)**: Generates random splits for training and testing.  You control the number of splits and the proportion of data in each split.\n",
    "\n",
    "* **Group K-Fold (`GroupKFold`)**:  Useful when you have groups of samples that should not be split across folds (e.g., data from multiple patients).\n",
    "\n",
    "**Custom Cross-Validation Strategies**\n",
    "\n",
    "You can define your own cross-validation strategy by creating an iterable that yields (train, test) splits as arrays of indices.  \n",
    "\n",
    "**Example: Custom Time Series Split**\n",
    "\n",
    "```python\n",
    "from sklearn.model_selection import TimeSeriesSplit\n",
    "\n",
    "# 5 splits with increasing training set size\n",
    "tscv = TimeSeriesSplit(n_splits=5) \n",
    "```\n",
    "\n",
    "**Choosing the Right Strategy**\n",
    "\n",
    "The best cross-validation strategy depends on your specific problem and dataset:\n",
    "\n",
    "* **K-Folds:** A good default choice for many problems.\n",
    "* **Stratified K-Folds:** Preferable for classification problems with imbalanced classes.\n",
    "* **Leave One Out:** For small datasets where you want to maximize the amount of data used for training.\n",
    "* **Shuffle Split:** Useful for exploring the variability of your model's performance.\n",
    "* **Group K-Fold:** Essential when you have groups of related samples.\n",
    "* **Custom:** If none of the built-in strategies fit your needs, create your own!\n",
    "\n",
    "**Using the `cv` Parameter in `cross_val_score`**\n",
    "\n",
    "You can pass any of the following to the `cv` parameter:\n",
    "\n",
    "* **Integer:** Specifies the number of folds for K-Folds cross-validation.\n",
    "* **Cross-Validation Iterator Object:**  An instance of one of the built-in cross-validation classes (`KFold`, `StratifiedKFold`, etc.).\n",
    "* **Custom Iterable:** Your own iterable that yields (train, test) splits.\n",
    "\n",
    "**Example Usage**\n",
    "\n",
    "```python\n",
    "from sklearn.model_selection import cross_val_score, KFold\n",
    "# ... (your data and model setup)\n",
    "\n",
    "# K-Fold cross-validation with 5 folds\n",
    "scores_kfold = cross_val_score(model, X, y, cv=5)\n",
    "\n",
    "# Stratified K-Fold\n",
    "from sklearn.model_selection import StratifiedKFold\n",
    "cv_stratified = StratifiedKFold(n_splits=5, shuffle=True, random_state=0)\n",
    "scores_stratified = cross_val_score(model, X, y, cv=cv_stratified)\n",
    "```\n",
    "\n",
    "Let me know if you have any other questions or would like a more tailored example!"
   ],
   "id": "e0e27865391f38f9"
  },
  {
   "metadata": {},
   "cell_type": "markdown",
   "source": [
    "You should consider using `Stratified K-Fold` cross-validation in the following scenarios:\n",
    "\n",
    "1. **Classification Problems with Imbalanced Classes:**\n",
    "\n",
    "   * When your target variable has a skewed class distribution (e.g., 90% of samples belong to one class, and 10% to another), regular K-Fold might result in folds where the minority class is underrepresented or even absent. This can lead to misleading performance estimates.\n",
    "   * Stratified K-Fold ensures that each fold maintains the same proportion of samples from each class as the original dataset, providing a more accurate representation of your model's performance on all classes.\n",
    "\n",
    "2. **Small Datasets:**\n",
    "\n",
    "   * When your dataset is relatively small, the randomness of regular K-Fold might lead to significant variations in the performance across different folds.\n",
    "   * Stratified K-Fold helps to mitigate this by providing more consistent folds, reducing the variance of your performance estimates.\n",
    "\n",
    "3. **Multi-Label Classification:**\n",
    "\n",
    "   * In multi-label classification, each sample can belong to multiple classes simultaneously. \n",
    "   * Stratified K-Fold can be extended (using techniques like iterative stratification) to ensure that the distribution of labels is preserved across folds, which is crucial for accurate evaluation.\n",
    "\n",
    "4. **Any Situation Where Class Distribution Matters:**\n",
    "\n",
    "   * Even if your class distribution isn't severely imbalanced, if you suspect that the class distribution might affect your model's performance, Stratified K-Fold is a safer choice. It helps you avoid potential biases in your evaluation due to the class distribution.\n",
    "\n",
    "**When Not to Use Stratified K-Fold**\n",
    "\n",
    "* **Regression Problems:** Stratified K-Fold is designed for classification problems.  For regression problems, where the target variable is continuous, regular K-Fold is usually sufficient.\n",
    "* **Large, Balanced Datasets:** If your dataset is very large and the classes are already well-balanced, the benefits of Stratified K-Fold might not be significant, and regular K-Fold can be used for simplicity.\n",
    "\n",
    "**Key Points**\n",
    "\n",
    "* Stratified K-Fold is a more robust cross-validation strategy than regular K-Fold in many scenarios, especially when dealing with imbalanced classes or small datasets.\n",
    "* It ensures that each fold accurately represents the overall class distribution of the original dataset.\n",
    "* When in doubt, using Stratified K-Fold is often a safe bet, as it can help you avoid potential biases in your model evaluation.\n",
    "\n",
    "Let me know if you have any other questions!\n"
   ],
   "id": "faaaa3c69da0f4c2"
  },
  {
   "metadata": {},
   "cell_type": "markdown",
   "source": [
    "# When and how should these cross-validation-algorithm be used ?\n",
    "\n",
    "Absolutely! Let's break down when to use each cross-validation strategy:\n",
    "\n",
    "**K-Fold Cross-Validation**\n",
    "\n",
    "* **Use Case:** General purpose cross-validation for regression and balanced classification problems.\n",
    "* **Strengths:**\n",
    "    * Simple to understand and implement.\n",
    "    * Provides a robust estimate of model performance.\n",
    "    * Computationally efficient.\n",
    "* **Weaknesses:**\n",
    "    * May not be ideal for imbalanced datasets, as some folds could end up with a disproportionate number of samples from a particular class.\n",
    "\n",
    "**Stratified K-Fold Cross-Validation**\n",
    "\n",
    "* **Use Case:** Classification problems with imbalanced classes, or situations where preserving the class distribution in each fold is crucial.\n",
    "* **Strengths:**\n",
    "    * Ensures each fold maintains the same class distribution as the original dataset.\n",
    "    * Reduces the risk of misleading performance estimates caused by imbalanced folds.\n",
    "    * Especially useful for smaller datasets where the class imbalance can have a greater impact.\n",
    "* **Weaknesses:**\n",
    "    * Slightly more complex to implement than regular K-Fold.\n",
    "\n",
    "**Leave-One-Out Cross-Validation (LOOCV)**\n",
    "\n",
    "* **Use Case:** Small datasets where you want to maximize the amount of data used for training.\n",
    "* **Strengths:**\n",
    "    * Uses almost all of the data for training in each iteration, potentially leading to a more accurate estimate of model performance.\n",
    "* **Weaknesses:**\n",
    "    * Computationally expensive, especially for large datasets.\n",
    "    * High variance in results due to the small size of the test set in each iteration.\n",
    "\n",
    "**Shuffle Split Cross-Validation**\n",
    "\n",
    "* **Use Case:** Exploring the variability of model performance or when you need a specific number of train-test splits.\n",
    "* **Strengths:**\n",
    "    * Flexible: allows you to control the number of splits and the proportion of data in each split.\n",
    "    * Can be useful for repeated cross-validation to get a more robust estimate of performance.\n",
    "* **Weaknesses:**\n",
    "    * Does not guarantee the same distribution of samples across splits, which might be problematic for imbalanced datasets.\n",
    "\n",
    "**Group K-Fold Cross-Validation**\n",
    "\n",
    "* **Use Case:** Datasets with groups of related samples that should not be split across folds (e.g., data from multiple patients).\n",
    "* **Strengths:**\n",
    "    * Prevents data leakage between training and test sets when samples have inherent dependencies.\n",
    "* **Weaknesses:**\n",
    "    * Requires knowledge of group membership for each sample.\n",
    "\n",
    "\n",
    "**Choosing the Right Strategy**\n",
    "\n",
    "The choice of cross-validation strategy depends on your specific problem, dataset, and goals:\n",
    "\n",
    "* **Start with K-Fold:** A good default for most cases.\n",
    "* **If you have class imbalance:** Switch to Stratified K-Fold.\n",
    "* **If you have a small dataset:** Consider LOOCV or Shuffle Split.\n",
    "* **If your samples have groups:** Use Group K-Fold.\n",
    "\n",
    "**Additional Tips**\n",
    "\n",
    "* **Nested Cross-Validation:** If you need to tune hyperparameters and evaluate your model's final performance, use nested cross-validation.\n",
    "* **Repeated Cross-Validation:** Repeating the cross-validation process with different random seeds can help reduce the variability of your results.\n",
    "* **Experiment:**  Don't be afraid to try different strategies and see which one works best for your specific problem.\n",
    "\n",
    "Let me know if you have any other questions!\n"
   ],
   "id": "6c007e9ffcbd43c1"
  },
  {
   "metadata": {
    "ExecuteTime": {
     "end_time": "2024-06-13T12:25:55.045927Z",
     "start_time": "2024-06-13T12:25:55.043493Z"
    }
   },
   "cell_type": "code",
   "source": "cv = KFold(n_splits=5, shuffle=True, random_state=0)",
   "id": "b8d3d2204f387e5d",
   "outputs": [],
   "execution_count": 19
  },
  {
   "metadata": {
    "ExecuteTime": {
     "end_time": "2024-06-13T12:25:56.577231Z",
     "start_time": "2024-06-13T12:25:56.569311Z"
    }
   },
   "cell_type": "code",
   "source": "scores = cross_val_score(regression , X_train ,Y_train , cv=cv , scoring='neg_mean_squared_error')",
   "id": "fed298775cfbc007",
   "outputs": [],
   "execution_count": 20
  },
  {
   "metadata": {
    "ExecuteTime": {
     "end_time": "2024-06-13T12:25:57.625520Z",
     "start_time": "2024-06-13T12:25:57.622434Z"
    }
   },
   "cell_type": "code",
   "source": [
    "print(\"Cross-Validation Scores:\", scores) # Negate for MSE since it's negative in scikit-learn\n",
    "print(\"Average Score:\", scores.mean())\n",
    "print(\"Standard Deviation:\", scores.std())"
   ],
   "id": "190a043f5052c84b",
   "outputs": [
    {
     "name": "stdout",
     "output_type": "stream",
     "text": [
      "Cross-Validation Scores: [ -8694.04480295  -1559.44382066  -7046.85013068  -2016.77483272\n",
      " -11293.18428733]\n",
      "Average Score: -6122.059574870723\n",
      "Standard Deviation: 3791.6144770284864\n"
     ]
    }
   ],
   "execution_count": 21
  },
  {
   "metadata": {
    "ExecuteTime": {
     "end_time": "2024-06-12T14:13:37.614373Z",
     "start_time": "2024-06-12T14:13:37.611996Z"
    }
   },
   "cell_type": "code",
   "source": [
    "#prediction\n",
    "y_predicted = regression.predict(X_test)"
   ],
   "id": "3b1e841a91f96b36",
   "outputs": [],
   "execution_count": 50
  },
  {
   "metadata": {
    "ExecuteTime": {
     "end_time": "2024-06-12T14:20:56.230295Z",
     "start_time": "2024-06-12T14:20:56.225976Z"
    }
   },
   "cell_type": "code",
   "source": [
    "mse = mean_squared_error(Y_test, y_predicted)\n",
    "mae = mean_absolute_error(Y_test, y_predicted)\n",
    "rmse = np.sqrt(mean_squared_error(Y_test, y_predicted))\n",
    "print(\"Mean Squared Error:\", mse)\n",
    "print(\"Mean Absolute Error:\", mae)\n",
    "print(\"Root Mean Squared Error:\", rmse)\n",
    "score = r2_score(Y_test, y_predicted)\n",
    "print(\"r^2 score:\", score*100 , \"% Accuracy:\")"
   ],
   "id": "95900227561e45e3",
   "outputs": [
    {
     "name": "stdout",
     "output_type": "stream",
     "text": [
      "Mean Squared Error: 5793.76288771258\n",
      "Mean Absolute Error: 59.93578152323554\n",
      "Root Mean Squared Error: 76.11677139574813\n",
      "r^2 score: 82.78978091457142 % Accuracy:\n"
     ]
    }
   ],
   "execution_count": 60
  },
  {
   "metadata": {
    "ExecuteTime": {
     "end_time": "2024-06-12T14:20:30.591637Z",
     "start_time": "2024-06-12T14:20:30.588697Z"
    }
   },
   "cell_type": "code",
   "source": [
    "Adjusted_r2 = 1-(1-score)*(len(Y_test)-1)/(len(Y_test)-X_test.shape[1]-1)\n",
    "print(\"Adjusted R2 Score : \" , Adjusted_r2*100 , \"% Accuracy\")\n"
   ],
   "id": "e8b64a67857aa015",
   "outputs": [
    {
     "name": "stdout",
     "output_type": "stream",
     "text": [
      "Adjusted R2 Score :  71.31630152428569 % Accuracy\n"
     ]
    }
   ],
   "execution_count": 59
  },
  {
   "metadata": {},
   "cell_type": "markdown",
   "source": "# Assumption",
   "id": "966cc24e643eb813"
  },
  {
   "metadata": {
    "ExecuteTime": {
     "end_time": "2024-06-12T14:22:09.977261Z",
     "start_time": "2024-06-12T14:22:09.902129Z"
    }
   },
   "cell_type": "code",
   "source": "plt.scatter(Y_test , y_predicted , color='red') # linear hence you model has performed well",
   "id": "744944bcad41955d",
   "outputs": [
    {
     "data": {
      "text/plain": [
       "<matplotlib.collections.PathCollection at 0x16d143ad0>"
      ]
     },
     "execution_count": 61,
     "metadata": {},
     "output_type": "execute_result"
    },
    {
     "data": {
      "text/plain": [
       "<Figure size 640x480 with 1 Axes>"
      ],
      "image/png": "[encoded data removed]"
     },
     "metadata": {},
     "output_type": "display_data"
    }
   ],
   "execution_count": 61
  },
  {
   "metadata": {
    "ExecuteTime": {
     "end_time": "2024-06-12T14:23:07.552408Z",
     "start_time": "2024-06-12T14:23:07.549553Z"
    }
   },
   "cell_type": "code",
   "source": [
    "residuals = Y_test - y_predicted\n",
    "print(\"Residuals:\", residuals)"
   ],
   "id": "7d28c1d5707cd4e0",
   "outputs": [
    {
     "name": "stdout",
     "output_type": "stream",
     "text": [
      "Residuals: 8     -45.227704\n",
      "16    149.349481\n",
      "0      57.486996\n",
      "18     26.291104\n",
      "11     80.090077\n",
      "9      -1.169327\n",
      "Name: index_price, dtype: float64\n"
     ]
    }
   ],
   "execution_count": 62
  },
  {
   "metadata": {
    "ExecuteTime": {
     "end_time": "2024-06-12T14:23:52.504163Z",
     "start_time": "2024-06-12T14:23:52.340271Z"
    }
   },
   "cell_type": "code",
   "source": [
    "##Plot this residuals\n",
    "sns.displot(residuals, kind='kde')"
   ],
   "id": "19eedca054aa0133",
   "outputs": [
    {
     "name": "stderr",
     "output_type": "stream",
     "text": [
      "/opt/homebrew/anaconda3/lib/python3.11/site-packages/seaborn/_oldcore.py:1119: FutureWarning: use_inf_as_na option is deprecated and will be removed in a future version. Convert inf values to NaN before operating instead.\n",
      "  with pd.option_context('mode.use_inf_as_na', True):\n"
     ]
    },
    {
     "data": {
      "text/plain": [
       "<seaborn.axisgrid.FacetGrid at 0x16d15d050>"
      ]
     },
     "execution_count": 63,
     "metadata": {},
     "output_type": "execute_result"
    },
    {
     "data": {
      "text/plain": [
       "<Figure size 500x500 with 1 Axes>"
      ],
      "image/png": "[encoded data removed]"
     },
     "metadata": {},
     "output_type": "display_data"
    }
   ],
   "execution_count": 63
  },
  {
   "metadata": {
    "ExecuteTime": {
     "end_time": "2024-06-12T14:25:20.805417Z",
     "start_time": "2024-06-12T14:25:20.730352Z"
    }
   },
   "cell_type": "code",
   "source": [
    "# scatter plot with predictions  and residuals\n",
    "plt.scatter(y_predicted , residuals , color='blue')"
   ],
   "id": "7638e91a0a4de4d8",
   "outputs": [
    {
     "data": {
      "text/plain": [
       "<matplotlib.collections.PathCollection at 0x16d1e5a10>"
      ]
     },
     "execution_count": 64,
     "metadata": {},
     "output_type": "execute_result"
    },
    {
     "data": {
      "text/plain": [
       "<Figure size 640x480 with 1 Axes>"
      ],
      "image/png": "[encoded data removed]"
     },
     "metadata": {},
     "output_type": "display_data"
    }
   ],
   "execution_count": 64
  },
  {
   "metadata": {},
   "cell_type": "markdown",
   "source": "# Validating with OLS",
   "id": "e82a27fad3d6bfec"
  },
  {
   "metadata": {
    "ExecuteTime": {
     "end_time": "2024-06-12T14:29:13.035782Z",
     "start_time": "2024-06-12T14:29:13.026507Z"
    }
   },
   "cell_type": "code",
   "source": [
    "model = sm.OLS(Y_train , X_train ).fit()\n",
    "print(model.summary())"
   ],
   "id": "4a9d3b3cb1940cf8",
   "outputs": [
    {
     "name": "stdout",
     "output_type": "stream",
     "text": [
      "                                 OLS Regression Results                                \n",
      "=======================================================================================\n",
      "Dep. Variable:            index_price   R-squared (uncentered):                   0.035\n",
      "Model:                            OLS   Adj. R-squared (uncentered):             -0.086\n",
      "Method:                 Least Squares   F-statistic:                             0.2880\n",
      "Date:                Wed, 12 Jun 2024   Prob (F-statistic):                       0.754\n",
      "Time:                        19:59:13   Log-Likelihood:                         -150.85\n",
      "No. Observations:                  18   AIC:                                      305.7\n",
      "Df Residuals:                      16   BIC:                                      307.5\n",
      "Df Model:                           2                                                  \n",
      "Covariance Type:            nonrobust                                                  \n",
      "==============================================================================\n",
      "                 coef    std err          t      P>|t|      [0.025      0.975]\n",
      "------------------------------------------------------------------------------\n",
      "x1            88.2728    658.295      0.134      0.895   -1307.250    1483.796\n",
      "x2          -116.2572    658.295     -0.177      0.862   -1511.780    1279.266\n",
      "==============================================================================\n",
      "Omnibus:                        0.598   Durbin-Watson:                   0.007\n",
      "Prob(Omnibus):                  0.741   Jarque-Bera (JB):                0.567\n",
      "Skew:                          -0.361   Prob(JB):                        0.753\n",
      "Kurtosis:                       2.517   Cond. No.                         4.78\n",
      "==============================================================================\n",
      "\n",
      "Notes:\n",
      "[1] R² is computed without centering (uncentered) since the model does not contain a constant.\n",
      "[2] Standard Errors assume that the covariance matrix of the errors is correctly specified.\n"
     ]
    },
    {
     "name": "stderr",
     "output_type": "stream",
     "text": [
      "/opt/homebrew/anaconda3/lib/python3.11/site-packages/scipy/stats/_stats_py.py:1806: UserWarning: kurtosistest only valid for n>=20 ... continuing anyway, n=18\n",
      "  warnings.warn(\"kurtosistest only valid for n>=20 ... continuing \"\n"
     ]
    }
   ],
   "execution_count": 66
  },
  {
   "metadata": {
    "ExecuteTime": {
     "end_time": "2024-06-12T14:29:51.857112Z",
     "start_time": "2024-06-12T14:29:51.854595Z"
    }
   },
   "cell_type": "code",
   "source": "print(regression.coef_)",
   "id": "a228fc2750f5902c",
   "outputs": [
    {
     "name": "stdout",
     "output_type": "stream",
     "text": [
      "[  88.27275507 -116.25716066]\n"
     ]
    }
   ],
   "execution_count": 67
  },
  {
   "metadata": {},
   "cell_type": "code",
   "outputs": [],
   "execution_count": null,
   "source": "",
   "id": "3927750738ff9ffb"
  }
 ],
 "metadata": {
  "kernelspec": {
   "display_name": "Python 3",
   "language": "python",
   "name": "python3"
  },
  "language_info": {
   "codemirror_mode": {
    "name": "ipython",
    "version": 2
   },
   "file_extension": ".py",
   "mimetype": "text/x-python",
   "name": "python",
   "nbconvert_exporter": "python",
   "pygments_lexer": "ipython2",
   "version": "2.7.6"
  }
 },
 "nbformat": 4,
 "nbformat_minor": 5
}
