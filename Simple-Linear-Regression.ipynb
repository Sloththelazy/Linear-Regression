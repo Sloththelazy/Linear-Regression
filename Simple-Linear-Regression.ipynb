{
 "cells": [
  {
   "cell_type": "code",
   "id": "initial_id",
   "metadata": {
    "collapsed": true,
    "ExecuteTime": {
     "end_time": "2024-06-12T11:55:51.842282Z",
     "start_time": "2024-06-12T11:55:51.553879Z"
    }
   },
   "source": [
    "import pandas as pd\n",
    "import matplotlib.pyplot as plt\n",
    "import seaborn as sns\n",
    "import numpy as np\n",
    "from sklearn.model_selection import train_test_split\n",
    "from sklearn.preprocessing import StandardScaler\n",
    "from sklearn.linear_model import LinearRegression\n",
    "from sklearn.metrics import mean_squared_error , mean_absolute_error\n",
    "from sklearn.metrics import r2_score\n",
    "import statsmodels.api as sm"
   ],
   "outputs": [],
   "execution_count": 46
  },
  {
   "metadata": {
    "ExecuteTime": {
     "end_time": "2024-06-12T10:45:40.860194Z",
     "start_time": "2024-06-12T10:45:40.849500Z"
    }
   },
   "cell_type": "code",
   "source": [
    "path = r\"/Users/gulgulusingh/Documents/MLOPS/Dataset/height-weight.csv\"\n",
    "df = pd.read_csv(path)"
   ],
   "id": "c4160d3a881bf3de",
   "outputs": [],
   "execution_count": 2
  },
  {
   "metadata": {
    "ExecuteTime": {
     "end_time": "2024-06-12T10:46:11.577511Z",
     "start_time": "2024-06-12T10:46:11.571729Z"
    }
   },
   "cell_type": "code",
   "source": "df.head()",
   "id": "44a7d80eac026925",
   "outputs": [
    {
     "data": {
      "text/plain": [
       "   Weight  Height\n",
       "0      45     120\n",
       "1      58     135\n",
       "2      48     123\n",
       "3      60     145\n",
       "4      70     160"
      ],
      "text/html": [
       "<div>\n",
       "<style scoped>\n",
       "    .dataframe tbody tr th:only-of-type {\n",
       "        vertical-align: middle;\n",
       "    }\n",
       "\n",
       "    .dataframe tbody tr th {\n",
       "        vertical-align: top;\n",
       "    }\n",
       "\n",
       "    .dataframe thead th {\n",
       "        text-align: right;\n",
       "    }\n",
       "</style>\n",
       "<table border=\"1\" class=\"dataframe\">\n",
       "  <thead>\n",
       "    <tr style=\"text-align: right;\">\n",
       "      <th></th>\n",
       "      <th>Weight</th>\n",
       "      <th>Height</th>\n",
       "    </tr>\n",
       "  </thead>\n",
       "  <tbody>\n",
       "    <tr>\n",
       "      <th>0</th>\n",
       "      <td>45</td>\n",
       "      <td>120</td>\n",
       "    </tr>\n",
       "    <tr>\n",
       "      <th>1</th>\n",
       "      <td>58</td>\n",
       "      <td>135</td>\n",
       "    </tr>\n",
       "    <tr>\n",
       "      <th>2</th>\n",
       "      <td>48</td>\n",
       "      <td>123</td>\n",
       "    </tr>\n",
       "    <tr>\n",
       "      <th>3</th>\n",
       "      <td>60</td>\n",
       "      <td>145</td>\n",
       "    </tr>\n",
       "    <tr>\n",
       "      <th>4</th>\n",
       "      <td>70</td>\n",
       "      <td>160</td>\n",
       "    </tr>\n",
       "  </tbody>\n",
       "</table>\n",
       "</div>"
      ]
     },
     "execution_count": 3,
     "metadata": {},
     "output_type": "execute_result"
    }
   ],
   "execution_count": 3
  },
  {
   "metadata": {},
   "cell_type": "markdown",
   "source": "# Scatter Plot",
   "id": "8a48d5f6802d3ece"
  },
  {
   "metadata": {
    "ExecuteTime": {
     "end_time": "2024-06-12T10:47:34.842385Z",
     "start_time": "2024-06-12T10:47:34.712733Z"
    }
   },
   "cell_type": "code",
   "source": [
    "plt.scatter(df['Weight'] , df['Height'])\n",
    "plt.xlabel('Weight')\n",
    "plt.ylabel('Height')\n",
    "plt.show()"
   ],
   "id": "93927f06af6c3184",
   "outputs": [
    {
     "data": {
      "text/plain": [
       "<Figure size 640x480 with 1 Axes>"
      ],
      "image/png": "[encoded data removed]"
     },
     "metadata": {},
     "output_type": "display_data"
    }
   ],
   "execution_count": 4
  },
  {
   "metadata": {
    "ExecuteTime": {
     "end_time": "2024-06-12T10:48:04.109043Z",
     "start_time": "2024-06-12T10:48:04.104515Z"
    }
   },
   "cell_type": "code",
   "source": [
    "#Correlation\n",
    "df.corr()"
   ],
   "id": "c80df55843e0be41",
   "outputs": [
    {
     "data": {
      "text/plain": [
       "          Weight    Height\n",
       "Weight  1.000000  0.931142\n",
       "Height  0.931142  1.000000"
      ],
      "text/html": [
       "<div>\n",
       "<style scoped>\n",
       "    .dataframe tbody tr th:only-of-type {\n",
       "        vertical-align: middle;\n",
       "    }\n",
       "\n",
       "    .dataframe tbody tr th {\n",
       "        vertical-align: top;\n",
       "    }\n",
       "\n",
       "    .dataframe thead th {\n",
       "        text-align: right;\n",
       "    }\n",
       "</style>\n",
       "<table border=\"1\" class=\"dataframe\">\n",
       "  <thead>\n",
       "    <tr style=\"text-align: right;\">\n",
       "      <th></th>\n",
       "      <th>Weight</th>\n",
       "      <th>Height</th>\n",
       "    </tr>\n",
       "  </thead>\n",
       "  <tbody>\n",
       "    <tr>\n",
       "      <th>Weight</th>\n",
       "      <td>1.000000</td>\n",
       "      <td>0.931142</td>\n",
       "    </tr>\n",
       "    <tr>\n",
       "      <th>Height</th>\n",
       "      <td>0.931142</td>\n",
       "      <td>1.000000</td>\n",
       "    </tr>\n",
       "  </tbody>\n",
       "</table>\n",
       "</div>"
      ]
     },
     "execution_count": 6,
     "metadata": {},
     "output_type": "execute_result"
    }
   ],
   "execution_count": 6
  },
  {
   "metadata": {},
   "cell_type": "markdown",
   "source": "# Independent and Dependent Features",
   "id": "42363fa6d5b89771"
  },
  {
   "metadata": {
    "ExecuteTime": {
     "end_time": "2024-06-12T11:00:11.099952Z",
     "start_time": "2024-06-12T11:00:11.096710Z"
    }
   },
   "cell_type": "code",
   "source": [
    "X = df[['Weight']] # independent feature should be in the form of data frame or 2-dimensional array\n",
    "X.head()\n",
    "y = df['Height']"
   ],
   "id": "da051d14eaac19f1",
   "outputs": [],
   "execution_count": 10
  },
  {
   "metadata": {},
   "cell_type": "markdown",
   "source": [
    "# Train_Test_Split\n",
    "\n",
    "We split the dataset into two parts: one is the Train dataset and the other one is the Test dataset.\n",
    "\n",
    "This is done to avoid the underfitting or overfitting condition which means:\n",
    "\n",
    "## Underfitting and Overfitting\n",
    "\n",
    "**Underfitting:**\n",
    "- Occurs when a model is too simple.\n",
    "- Low accuracy on the Training Data as well as low accuracy on the Testing dataset.\n",
    "- The model is not able to capture the underlying patterns of the data.\n",
    "\n",
    "**Overfitting:**\n",
    "- Occurs when a model is too complex.\n",
    "- High accuracy on the Training data but low accuracy on the Testing dataset.\n",
    "- The model captures noise and random fluctuations in the training data, which do not generalize well to new data.\n"
   ],
   "id": "98ece2638fef7f4a"
  },
  {
   "metadata": {
    "ExecuteTime": {
     "end_time": "2024-06-12T11:00:16.534803Z",
     "start_time": "2024-06-12T11:00:16.529545Z"
    }
   },
   "cell_type": "code",
   "source": "X_train,X_test,Y_train,Y_test = train_test_split(X,y,test_size=0.25,random_state=42)",
   "id": "d701bde9b81ab6b4",
   "outputs": [],
   "execution_count": 11
  },
  {
   "metadata": {
    "ExecuteTime": {
     "end_time": "2024-06-12T11:01:06.551266Z",
     "start_time": "2024-06-12T11:01:06.547859Z"
    }
   },
   "cell_type": "code",
   "source": "X_train.shape",
   "id": "ab790698ad894d33",
   "outputs": [
    {
     "data": {
      "text/plain": [
       "(17, 1)"
      ]
     },
     "execution_count": 14,
     "metadata": {},
     "output_type": "execute_result"
    }
   ],
   "execution_count": 14
  },
  {
   "metadata": {},
   "cell_type": "markdown",
   "source": "### Standardization",
   "id": "df75cb5553dcb8fd"
  },
  {
   "metadata": {
    "ExecuteTime": {
     "end_time": "2024-06-12T11:03:47.146012Z",
     "start_time": "2024-06-12T11:03:47.140887Z"
    }
   },
   "cell_type": "code",
   "source": [
    "Scaler = StandardScaler()\n",
    "X_train = Scaler.fit_transform(X_train)\n",
    "X_test = Scaler.transform(X_test)"
   ],
   "id": "65f83c45ccdcf83a",
   "outputs": [],
   "execution_count": 17
  },
  {
   "metadata": {},
   "cell_type": "markdown",
   "source": "# Linear Regression",
   "id": "139729d81665e3e4"
  },
  {
   "metadata": {
    "ExecuteTime": {
     "end_time": "2024-06-12T11:13:27.331873Z",
     "start_time": "2024-06-12T11:13:27.329324Z"
    }
   },
   "cell_type": "code",
   "source": "regression = LinearRegression(n_jobs=-1)\n",
   "id": "e5ddfe1568d94dbd",
   "outputs": [],
   "execution_count": 21
  },
  {
   "metadata": {
    "ExecuteTime": {
     "end_time": "2024-06-12T11:15:07.386712Z",
     "start_time": "2024-06-12T11:15:07.381268Z"
    }
   },
   "cell_type": "code",
   "source": "regression.fit(X_train , Y_train)",
   "id": "806e86d8e9bab04e",
   "outputs": [
    {
     "data": {
      "text/plain": [
       "LinearRegression(n_jobs=-1)"
      ],
      "text/html": [
       "<style>#sk-container-id-1 {color: black;background-color: white;}#sk-container-id-1 pre{padding: 0;}#sk-container-id-1 div.sk-toggleable {background-color: white;}#sk-container-id-1 label.sk-toggleable__label {cursor: pointer;display: block;width: 100%;margin-bottom: 0;padding: 0.3em;box-sizing: border-box;text-align: center;}#sk-container-id-1 label.sk-toggleable__label-arrow:before {content: \"▸\";float: left;margin-right: 0.25em;color: #696969;}#sk-container-id-1 label.sk-toggleable__label-arrow:hover:before {color: black;}#sk-container-id-1 div.sk-estimator:hover label.sk-toggleable__label-arrow:before {color: black;}#sk-container-id-1 div.sk-toggleable__content {max-height: 0;max-width: 0;overflow: hidden;text-align: left;background-color: #f0f8ff;}#sk-container-id-1 div.sk-toggleable__content pre {margin: 0.2em;color: black;border-radius: 0.25em;background-color: #f0f8ff;}#sk-container-id-1 input.sk-toggleable__control:checked~div.sk-toggleable__content {max-height: 200px;max-width: 100%;overflow: auto;}#sk-container-id-1 input.sk-toggleable__control:checked~label.sk-toggleable__label-arrow:before {content: \"▾\";}#sk-container-id-1 div.sk-estimator input.sk-toggleable__control:checked~label.sk-toggleable__label {background-color: #d4ebff;}#sk-container-id-1 div.sk-label input.sk-toggleable__control:checked~label.sk-toggleable__label {background-color: #d4ebff;}#sk-container-id-1 input.sk-hidden--visually {border: 0;clip: rect(1px 1px 1px 1px);clip: rect(1px, 1px, 1px, 1px);height: 1px;margin: -1px;overflow: hidden;padding: 0;position: absolute;width: 1px;}#sk-container-id-1 div.sk-estimator {font-family: monospace;background-color: #f0f8ff;border: 1px dotted black;border-radius: 0.25em;box-sizing: border-box;margin-bottom: 0.5em;}#sk-container-id-1 div.sk-estimator:hover {background-color: #d4ebff;}#sk-container-id-1 div.sk-parallel-item::after {content: \"\";width: 100%;border-bottom: 1px solid gray;flex-grow: 1;}#sk-container-id-1 div.sk-label:hover label.sk-toggleable__label {background-color: #d4ebff;}#sk-container-id-1 div.sk-serial::before {content: \"\";position: absolute;border-left: 1px solid gray;box-sizing: border-box;top: 0;bottom: 0;left: 50%;z-index: 0;}#sk-container-id-1 div.sk-serial {display: flex;flex-direction: column;align-items: center;background-color: white;padding-right: 0.2em;padding-left: 0.2em;position: relative;}#sk-container-id-1 div.sk-item {position: relative;z-index: 1;}#sk-container-id-1 div.sk-parallel {display: flex;align-items: stretch;justify-content: center;background-color: white;position: relative;}#sk-container-id-1 div.sk-item::before, #sk-container-id-1 div.sk-parallel-item::before {content: \"\";position: absolute;border-left: 1px solid gray;box-sizing: border-box;top: 0;bottom: 0;left: 50%;z-index: -1;}#sk-container-id-1 div.sk-parallel-item {display: flex;flex-direction: column;z-index: 1;position: relative;background-color: white;}#sk-container-id-1 div.sk-parallel-item:first-child::after {align-self: flex-end;width: 50%;}#sk-container-id-1 div.sk-parallel-item:last-child::after {align-self: flex-start;width: 50%;}#sk-container-id-1 div.sk-parallel-item:only-child::after {width: 0;}#sk-container-id-1 div.sk-dashed-wrapped {border: 1px dashed gray;margin: 0 0.4em 0.5em 0.4em;box-sizing: border-box;padding-bottom: 0.4em;background-color: white;}#sk-container-id-1 div.sk-label label {font-family: monospace;font-weight: bold;display: inline-block;line-height: 1.2em;}#sk-container-id-1 div.sk-label-container {text-align: center;}#sk-container-id-1 div.sk-container {/* jupyter's `normalize.less` sets `[hidden] { display: none; }` but bootstrap.min.css set `[hidden] { display: none !important; }` so we also need the `!important` here to be able to override the default hidden behavior on the sphinx rendered scikit-learn.org. See: https://github.com/scikit-learn/scikit-learn/issues/21755 */display: inline-block !important;position: relative;}#sk-container-id-1 div.sk-text-repr-fallback {display: none;}</style><div id=\"sk-container-id-1\" class=\"sk-top-container\"><div class=\"sk-text-repr-fallback\"><pre>LinearRegression(n_jobs=-1)</pre><b>In a Jupyter environment, please rerun this cell to show the HTML representation or trust the notebook. <br />On GitHub, the HTML representation is unable to render, please try loading this page with nbviewer.org.</b></div><div class=\"sk-container\" hidden><div class=\"sk-item\"><div class=\"sk-estimator sk-toggleable\"><input class=\"sk-toggleable__control sk-hidden--visually\" id=\"sk-estimator-id-1\" type=\"checkbox\" checked><label for=\"sk-estimator-id-1\" class=\"sk-toggleable__label sk-toggleable__label-arrow\">LinearRegression</label><div class=\"sk-toggleable__content\"><pre>LinearRegression(n_jobs=-1)</pre></div></div></div></div></div>"
      ]
     },
     "execution_count": 22,
     "metadata": {},
     "output_type": "execute_result"
    }
   ],
   "execution_count": 22
  },
  {
   "metadata": {
    "ExecuteTime": {
     "end_time": "2024-06-12T11:16:28.360797Z",
     "start_time": "2024-06-12T11:16:28.357897Z"
    }
   },
   "cell_type": "code",
   "source": [
    "print(\"Coefficient: \\t\" , regression.coef_)\n",
    "print(\"Intercept: \\t\" , regression.intercept_)"
   ],
   "id": "4135144569e8d53c",
   "outputs": [
    {
     "name": "stdout",
     "output_type": "stream",
     "text": [
      "Coefficient: \t [17.2982057]\n",
      "Intercept: \t 156.47058823529412\n"
     ]
    }
   ],
   "execution_count": 24
  },
  {
   "metadata": {
    "ExecuteTime": {
     "end_time": "2024-06-12T11:22:41.523762Z",
     "start_time": "2024-06-12T11:22:41.440475Z"
    }
   },
   "cell_type": "code",
   "source": [
    "plt.scatter(X_train , Y_train)\n",
    "plt.plot(X_train , regression.predict(X_train), color='red')"
   ],
   "id": "fc1fa93ca894e7c9",
   "outputs": [
    {
     "data": {
      "text/plain": [
       "[<matplotlib.lines.Line2D at 0x165add350>]"
      ]
     },
     "execution_count": 27,
     "metadata": {},
     "output_type": "execute_result"
    },
    {
     "data": {
      "text/plain": [
       "<Figure size 640x480 with 1 Axes>"
      ],
      "image/png": "[encoded data removed]"
     },
     "metadata": {},
     "output_type": "display_data"
    }
   ],
   "execution_count": 27
  },
  {
   "metadata": {
    "ExecuteTime": {
     "end_time": "2024-06-12T11:23:29.121100Z",
     "start_time": "2024-06-12T11:23:29.118716Z"
    }
   },
   "cell_type": "code",
   "source": "y_predict = regression.predict(X_test)",
   "id": "fb84e78031b35db4",
   "outputs": [],
   "execution_count": 28
  },
  {
   "metadata": {
    "ExecuteTime": {
     "end_time": "2024-06-12T11:24:27.464134Z",
     "start_time": "2024-06-12T11:24:27.380203Z"
    }
   },
   "cell_type": "code",
   "source": [
    "plt.scatter(X_test , Y_test)\n",
    "plt.plot(X_test , y_predict, color='red')"
   ],
   "id": "d173d5152ac80411",
   "outputs": [
    {
     "data": {
      "text/plain": [
       "[<matplotlib.lines.Line2D at 0x169e9f890>]"
      ]
     },
     "execution_count": 31,
     "metadata": {},
     "output_type": "execute_result"
    },
    {
     "data": {
      "text/plain": [
       "<Figure size 640x480 with 1 Axes>"
      ],
      "image/png": "[encoded data removed]"
     },
     "metadata": {},
     "output_type": "display_data"
    }
   ],
   "execution_count": 31
  },
  {
   "metadata": {
    "ExecuteTime": {
     "end_time": "2024-06-12T11:28:29.022443Z",
     "start_time": "2024-06-12T11:28:29.018239Z"
    }
   },
   "cell_type": "code",
   "source": [
    "mse = mean_squared_error(Y_test , y_predict)\n",
    "mae = mean_absolute_error(Y_test , y_predict)\n",
    "rmse = np.sqrt(mean_squared_error(Y_test, y_predict))\n",
    "print(\"Mean Squared Error : \\t\" , mse) \n",
    "print (\"Mean Absolute Error : \\t\" , mae)\n",
    "print(\"Root Mean Squared Error : \\t\" , rmse)"
   ],
   "id": "4df2a37e3f94712c",
   "outputs": [
    {
     "name": "stdout",
     "output_type": "stream",
     "text": [
      "Mean Squared Error : \t 114.84069295228699\n",
      "Mean Absolute Error : \t 9.665125886795005\n",
      "Root Mean Squared Error : \t 10.716374991212605\n"
     ]
    }
   ],
   "execution_count": 33
  },
  {
   "metadata": {},
   "cell_type": "markdown",
   "source": [
    "# Error Metrics\n",
    "\n",
    "Evaluating the performance of a regression model involves using various error metrics. Each metric has its own characteristics and is suitable for different scenarios. Here are three common error metrics:\n",
    "\n",
    "## Mean Squared Error (MSE)\n",
    "- **Definition:** The average of the squares of the differences between the predicted and actual values.\n",
    "- **Formula:** \n",
    "  \\[\n",
    "  \\text{MSE} = \\frac{1}{n} \\sum_{i=1}^n (y_i - \\hat{y}_i)^2\n",
    "  \\]\n",
    "  where \\( y_i \\) is the actual value and \\( \\hat{y}_i \\) is the predicted value.\n",
    "- **Characteristics:**\n",
    "  - Severely penalizes the outliers.\n",
    "  - Differentiable at all points, which makes it suitable for gradient-based optimization methods.\n",
    "- **Use Case:** Commonly used in scenarios where large errors are particularly undesirable.\n",
    "\n",
    "## Root Mean Squared Error (RMSE)\n",
    "- **Definition:** The square root of the average of the squared differences between the predicted and actual values.\n",
    "- **Formula:** \n",
    "  \\[\n",
    "  \\text{RMSE} = \\sqrt{\\frac{1}{n} \\sum_{i=1}^n (y_i - \\hat{y}_i)^2}\n",
    "  \\]\n",
    "- **Characteristics:**\n",
    "  - Not robust to outliers as it is derived from MSE.\n",
    "  - Not differentiable at all points.\n",
    "- **Use Case:** Often used to measure the accuracy of a model's predictions in the same units as the original data.\n",
    "\n",
    "## Mean Absolute Error (MAE)\n",
    "- **Definition:** The average of the absolute differences between the predicted and actual values.\n",
    "- **Formula:** \n",
    "  \\[\n",
    "  \\text{MAE} = \\frac{1}{n} \\sum_{i=1}^n |y_i - \\hat{y}_i|\n",
    "  \\]\n",
    "- **Characteristics:**\n",
    "  - Robust to outliers.\n",
    "  - Not differentiable at the global minima, hence it requires subgradient methods for optimization, which can be slower.\n",
    "- **Use Case:** Preferred in scenarios where robustness to outliers is important.\n",
    "\n",
    "### Summary of Characteristics\n",
    "\n",
    "| Metric | Penalizes Outliers | Differentiability | Robustness |\n",
    "|--------|---------------------|-------------------|------------|\n",
    "| MSE    | High                | Yes               | Low        |\n",
    "| RMSE   | High                | No                | Low        |\n",
    "| MAE    | Low                 | No (at minima)    | High       |\n",
    "\n",
    "Each metric provides different insights into the performance of a model, and the choice of metric can significantly affect the interpretation and tuning of the model.\n"
   ],
   "id": "361340f6b3d4f1b3"
  },
  {
   "metadata": {},
   "cell_type": "markdown",
   "source": [
    "# Performance Metrics: \\( R^2 \\) and Adjusted \\( R^2 \\)\n",
    "\n",
    "Evaluating the performance of regression models often involves using metrics that indicate how well the model explains the variability of the response data. Two commonly used metrics are \\( R^2 \\) (R-squared) and Adjusted \\( R^2 \\).\n",
    "\n",
    "## \\( R^2 \\) (R-squared)\n",
    "- **Definition:** Also known as the coefficient of determination, \\( R^2 \\) measures the proportion of the variance in the dependent variable that is predictable from the independent variables.\n",
    "- **Formula:**\n",
    "  \\[\n",
    "  R^2 = 1 - \\frac{\\sum_{i=1}^n (y_i - \\hat{y}_i)^2}{\\sum_{i=1}^n (y_i - \\bar{y})^2}\n",
    "  \\]\n",
    "  where \\( y_i \\) is the actual value, \\( \\hat{y}_i \\) is the predicted value, and \\( \\bar{y} \\) is the mean of the actual values.\n",
    "- **Interpretation:**\n",
    "  - \\( R^2 \\) values range from 0 to 1.\n",
    "  - An \\( R^2 \\) of 0 indicates that the model explains none of the variability of the response data around its mean.\n",
    "  - An \\( R^2 \\) of 1 indicates that the model explains all the variability of the response data around its mean.\n",
    "- **Use Case:** Commonly used to measure the goodness of fit of a model.\n",
    "\n",
    "## Adjusted \\( R^2 \\)\n",
    "- **Definition:** Adjusted \\( R^2 \\) adjusts the \\( R^2 \\) value based on the number of predictors in the model. It accounts for the model complexity by incorporating the number of predictors and the number of observations.\n",
    "- **Formula:**\n",
    "  \\[\n",
    "  \\text{Adjusted } R^2 = 1 - \\left(1 - R^2\\right) \\frac{n - 1}{n - p - 1}\n",
    "  \\]\n",
    "  where \\( n \\) is the number of observations and \\( p \\) is the number of predictors.\n",
    "- **Interpretation:**\n",
    "  - Adjusted \\( R^2 \\) can be lower than \\( R^2 \\) if the added predictors do not improve the model significantly.\n",
    "  - It can be used to compare models with different numbers of predictors.\n",
    "- **Use Case:** Preferred over \\( R^2 \\) when comparing models with a different number of predictors, as it adjusts for the number of predictors in the model.\n",
    "\n",
    "### Summary of Characteristics\n",
    "\n",
    "| Metric          | Definition                                           | Use Case                                    |\n",
    "|-----------------|------------------------------------------------------|---------------------------------------------|\n",
    "| \\( R^2 \\)       | Proportion of variance explained by the model        | Measuring the goodness of fit               |\n",
    "| Adjusted \\( R^2 \\) | Adjusted for the number of predictors and observations | Comparing models with different numbers of predictors |\n",
    "\n",
    "Both \\( R^2 \\) and Adjusted \\( R^2 \\) are valuable metrics for understanding and comparing the performance of regression models. \\( R^2 \\) provides a measure of fit, while Adjusted \\( R^2 \\) accounts for model complexity and is better suited for comparing models.\n"
   ],
   "id": "53e3fa442e34ed97"
  },
  {
   "metadata": {
    "ExecuteTime": {
     "end_time": "2024-06-12T11:55:05.909802Z",
     "start_time": "2024-06-12T11:55:05.906720Z"
    }
   },
   "cell_type": "code",
   "source": [
    "score = r2_score(Y_test , y_predict)\n",
    "print(\"Score : \" , score*100 , \"% Accuracy\")"
   ],
   "id": "28bfecb3da585967",
   "outputs": [
    {
     "name": "stdout",
     "output_type": "stream",
     "text": [
      "Score :  73.60826717981276 % Accuracy\n"
     ]
    }
   ],
   "execution_count": 43
  },
  {
   "metadata": {
    "ExecuteTime": {
     "end_time": "2024-06-12T11:55:08.725174Z",
     "start_time": "2024-06-12T11:55:08.723034Z"
    }
   },
   "cell_type": "code",
   "source": "Adjusted_r2 = 1-(1-score)*(len(Y_test)-1)/(len(Y_test)-X_test.shape[1]-1)",
   "id": "abbfa37d92aa238b",
   "outputs": [],
   "execution_count": 44
  },
  {
   "metadata": {
    "ExecuteTime": {
     "end_time": "2024-06-12T11:55:09.730773Z",
     "start_time": "2024-06-12T11:55:09.728200Z"
    }
   },
   "cell_type": "code",
   "source": "print(\"Adjusted R2 Score : \" , Adjusted_r2*100 , \"% Accuracy\")",
   "id": "f70be563791bcc97",
   "outputs": [
    {
     "name": "stdout",
     "output_type": "stream",
     "text": [
      "Adjusted R2 Score :  67.01033397476594 % Accuracy\n"
     ]
    }
   ],
   "execution_count": 45
  },
  {
   "metadata": {},
   "cell_type": "markdown",
   "source": [
    "Absolutely! Here's the refined version focusing on the theory of OLS linear regression:\n",
    "\n",
    "# Ordinary Least Squares (OLS) Linear Regression: The Math Behind It\n",
    "\n",
    "In this notebook, we'll delve into the mathematical underpinnings of Ordinary Least Squares (OLS) linear regression, the go-to method for fitting a line to data.\n",
    "\n",
    "## What is Linear Regression?\n",
    "\n",
    "Linear regression is a statistical technique used to model the relationship between a dependent variable ($y$) and one or more independent variables ($x_1$, $x_2$, ... , $x_n$). The goal is to find the best-fitting straight line that explains the linear relationship between these variables.\n",
    "\n",
    "## The OLS Objective\n",
    "\n",
    "OLS linear regression aims to minimize the sum of the squared differences between the observed values of the dependent variable ($y$) and the values predicted by the linear model ($\\hat{y}$).  This is often called the \"residual sum of squares\" or RSS.\n",
    "\n",
    "## The Model\n",
    "\n",
    "The general form of a linear regression model is:\n",
    "\n",
    "$$\\hat{y} = \\beta_0 + \\beta_1 x_1 + \\beta_2 x_2 + ... + \\beta_n x_n$$\n",
    "\n",
    "where:\n",
    "\n",
    "* $\\hat{y}$ is the predicted value of the dependent variable\n",
    "* $\\beta_0$ is the y-intercept (the value of $\\hat{y}$ when all $x$ values are zero)\n",
    "* $\\beta_1$, $\\beta_2$, ..., $\\beta_n$ are the coefficients of the independent variables, indicating how much $\\hat{y}$ changes for a unit change in each respective $x$\n",
    "* $x_1$, $x_2$, ..., $x_n$ are the independent variables\n",
    "\n",
    "## Matrix Notation\n",
    "\n",
    "OLS can be more concisely represented using matrix notation:\n",
    "\n",
    "$$Y = X \\beta + \\epsilon$$\n",
    "\n",
    "where:\n",
    "\n",
    "* $Y$ is a vector of observed values of the dependent variable\n",
    "* $X$ is a matrix of values of the independent variables (often called the design matrix)\n",
    "* $\\beta$ is a vector of coefficients\n",
    "* $\\epsilon$ is a vector of errors (the difference between the observed and predicted values)\n",
    "\n",
    "## Finding the Optimal Coefficients (β)\n",
    "\n",
    "The OLS solution for finding the optimal coefficients that minimize the RSS is given by:\n",
    "\n",
    "$$\\hat{\\beta} = (X^T X)^{-1} X^T Y$$\n",
    "\n",
    "This solution is derived using calculus (taking the derivative of the RSS with respect to β, setting it to zero, and solving). It relies on the matrix inverse, which is why certain conditions need to be met (e.g., no perfect multicollinearity among independent variables).\n",
    "\n",
    "## Assumptions of OLS Linear Regression\n",
    "\n",
    "OLS linear regression makes several key assumptions:\n",
    "\n",
    "1. **Linearity:** The relationship between the independent and dependent variables is linear.\n",
    "2. **Independence:** Observations are independent of each other.\n",
    "3. **Homoscedasticity:** The variance of errors is constant across all levels of the independent variables.\n",
    "4. **No perfect multicollinearity:** The independent variables are not perfectly correlated with each other.\n",
    "5. **Normality (Optional):** Errors are normally distributed (this assumption is not strictly required for OLS to work, but it is needed for certain statistical tests and confidence intervals).\n",
    "\n",
    "## Evaluating Model Fit\n",
    "\n",
    "Common metrics for evaluating the fit of a linear regression model include:\n",
    "\n",
    "* **R-squared:** The proportion of variance in the dependent variable explained by the model.\n",
    "* **Adjusted R-squared:**  A modified version of R-squared that penalizes for adding more variables to the model.\n",
    "* **Mean Squared Error (MSE):**  The average of the squared differences between the observed and predicted values.\n",
    "\n",
    "Let me know if you'd like a deeper dive into any of these concepts or want to explore specific mathematical derivations!"
   ],
   "id": "362a1b55d530bfa9"
  },
  {
   "metadata": {},
   "cell_type": "markdown",
   "source": [
    "Absolutely! Let's break down how to solve for the coefficients β₀ (beta nought, the y-intercept) and β₁ (beta one, the slope) in simple linear regression.\n",
    "\n",
    "**Simple Linear Regression Model**\n",
    "\n",
    "In simple linear regression, we have one independent variable (x) and one dependent variable (y). Our model looks like this:\n",
    "\n",
    "```\n",
    "ŷ = β₀ + β₁x\n",
    "```\n",
    "where:\n",
    "\n",
    "* ŷ (y-hat) is the predicted value of y\n",
    "* β₀ is the y-intercept\n",
    "* β₁ is the slope\n",
    "* x is the independent variable\n",
    "\n",
    "**OLS Solution for β₀ and β₁**\n",
    "\n",
    "The Ordinary Least Squares (OLS) method gives us formulas to directly calculate the optimal values of β₀ and β₁ that minimize the sum of squared errors (RSS):\n",
    "\n",
    "```\n",
    "β₁ = (∑(xi - x̄)(yi - ȳ)) / (∑(xi - x̄)²)\n",
    "β₀ = ȳ - β₁x̄\n",
    "```\n",
    "\n",
    "where:\n",
    "\n",
    "* xi and yi are individual data points\n",
    "* x̄ is the mean of the x values\n",
    "* ȳ is the mean of the y values\n",
    "\n",
    "**Mathematical Derivation**\n",
    "\n",
    "Let's derive these formulas briefly:\n",
    "\n",
    "1. **RSS:** The residual sum of squares (RSS) is the sum of the squared differences between observed and predicted values:\n",
    "   ```\n",
    "   RSS = ∑(yi - ŷi)² = ∑(yi - β₀ - β₁xi)²\n",
    "   ```\n",
    "\n",
    "2. **Minimizing RSS:** To find the values of β₀ and β₁ that minimize RSS, we take partial derivatives of RSS with respect to both β₀ and β₁ and set them to zero. This gives us two equations:\n",
    "\n",
    "   ```\n",
    "   ∂RSS/∂β₀ = -2∑(yi - β₀ - β₁xi) = 0  \n",
    "   ∂RSS/∂β₁ = -2∑xi(yi - β₀ - β₁xi) = 0\n",
    "   ```\n",
    "\n",
    "3. **Solving for β₀ and β₁:** Solving these two equations simultaneously leads to the formulas for β₀ and β₁ mentioned above.\n",
    "\n",
    "**Example Calculation**\n",
    "\n",
    "Let's consider a small example dataset:\n",
    "\n",
    "```\n",
    "x = [1, 2, 3, 4]\n",
    "y = [2, 4, 5, 4]\n",
    "```\n",
    "\n",
    "1. Calculate the means:\n",
    "   ```\n",
    "   x̄ = (1 + 2 + 3 + 4) / 4 = 2.5\n",
    "   ȳ = (2 + 4 + 5 + 4) / 4 = 3.75\n",
    "   ```\n",
    "\n",
    "2. Calculate the components of the formulas:\n",
    "\n",
    "   ```\n",
    "   ∑(xi - x̄)(yi - ȳ) = (-1.5)(-1.75) + (-0.5)(-0.25) + (0.5)(1.25) + (1.5)(0.25) = 3.5\n",
    "   ∑(xi - x̄)² = (-1.5)² + (-0.5)² + (0.5)² + (1.5)² = 5\n",
    "   ```\n",
    "\n",
    "3. Calculate β₁ and β₀:\n",
    "\n",
    "   ```\n",
    "   β₁ = 3.5 / 5 = 0.7\n",
    "   β₀ = 3.75 - 0.7 * 2.5 = 2\n",
    "   ```\n",
    "\n",
    "Therefore, the equation of the best-fit line for this dataset is:\n",
    "```\n",
    "ŷ = 2 + 0.7x\n",
    "```\n",
    "\n",
    "**Important Note:** In practice, you'll rarely calculate β₀ and β₁ manually. Software libraries like scikit-learn in Python provide functions to fit linear regression models easily. \n"
   ],
   "id": "3ce13a1a359fbecf"
  },
  {
   "metadata": {
    "ExecuteTime": {
     "end_time": "2024-06-12T12:12:41.685729Z",
     "start_time": "2024-06-12T12:12:41.680536Z"
    }
   },
   "cell_type": "code",
   "source": "model = sm.OLS(Y_train , X_train ).fit() #here the first value is of y_train and then of X_train",
   "id": "782c1e7d14415db6",
   "outputs": [],
   "execution_count": 47
  },
  {
   "metadata": {
    "ExecuteTime": {
     "end_time": "2024-06-12T12:13:29.975296Z",
     "start_time": "2024-06-12T12:13:29.973030Z"
    }
   },
   "cell_type": "code",
   "source": [
    "prediction = model.predict(X_test)\n",
    "print(prediction)"
   ],
   "id": "f0280804dd50bfde",
   "outputs": [
    {
     "name": "stdout",
     "output_type": "stream",
     "text": [
      "[  5.79440897   5.79440897 -28.78711691  23.60913442  -7.82861638\n",
      "  34.08838469]\n"
     ]
    }
   ],
   "execution_count": 48
  },
  {
   "metadata": {
    "ExecuteTime": {
     "end_time": "2024-06-12T12:14:27.183524Z",
     "start_time": "2024-06-12T12:14:27.172206Z"
    }
   },
   "cell_type": "code",
   "source": "print(model.summary())",
   "id": "fc25aa4b9efeab32",
   "outputs": [
    {
     "name": "stdout",
     "output_type": "stream",
     "text": [
      "                                 OLS Regression Results                                \n",
      "=======================================================================================\n",
      "Dep. Variable:                 Height   R-squared (uncentered):                   0.012\n",
      "Model:                            OLS   Adj. R-squared (uncentered):             -0.050\n",
      "Method:                 Least Squares   F-statistic:                             0.1953\n",
      "Date:                Wed, 12 Jun 2024   Prob (F-statistic):                       0.664\n",
      "Time:                        17:44:27   Log-Likelihood:                         -110.03\n",
      "No. Observations:                  17   AIC:                                      222.1\n",
      "Df Residuals:                      16   BIC:                                      222.9\n",
      "Df Model:                           1                                                  \n",
      "Covariance Type:            nonrobust                                                  \n",
      "==============================================================================\n",
      "                 coef    std err          t      P>|t|      [0.025      0.975]\n",
      "------------------------------------------------------------------------------\n",
      "x1            17.2982     39.138      0.442      0.664     -65.671     100.267\n",
      "==============================================================================\n",
      "Omnibus:                        0.135   Durbin-Watson:                   0.002\n",
      "Prob(Omnibus):                  0.935   Jarque-Bera (JB):                0.203\n",
      "Skew:                          -0.166   Prob(JB):                        0.904\n",
      "Kurtosis:                       2.581   Cond. No.                         1.00\n",
      "==============================================================================\n",
      "\n",
      "Notes:\n",
      "[1] R² is computed without centering (uncentered) since the model does not contain a constant.\n",
      "[2] Standard Errors assume that the covariance matrix of the errors is correctly specified.\n"
     ]
    },
    {
     "name": "stderr",
     "output_type": "stream",
     "text": [
      "/opt/homebrew/anaconda3/lib/python3.11/site-packages/scipy/stats/_stats_py.py:1806: UserWarning: kurtosistest only valid for n>=20 ... continuing anyway, n=17\n",
      "  warnings.warn(\"kurtosistest only valid for n>=20 ... continuing \"\n"
     ]
    }
   ],
   "execution_count": 49
  },
  {
   "metadata": {
    "ExecuteTime": {
     "end_time": "2024-06-12T12:16:33.275075Z",
     "start_time": "2024-06-12T12:16:33.201225Z"
    }
   },
   "cell_type": "code",
   "source": [
    "plt.scatter(X_test , Y_test, color='red')\n",
    "plt.plot(X_test , prediction, color='green')"
   ],
   "id": "aa33a7f1c3fb2688",
   "outputs": [
    {
     "data": {
      "text/plain": [
       "[<matplotlib.lines.Line2D at 0x17409a550>]"
      ]
     },
     "execution_count": 51,
     "metadata": {},
     "output_type": "execute_result"
    },
    {
     "data": {
      "text/plain": [
       "<Figure size 640x480 with 1 Axes>"
      ],
      "image/png": "[encoded data removed]"
     },
     "metadata": {},
     "output_type": "display_data"
    }
   ],
   "execution_count": 51
  },
  {
   "metadata": {},
   "cell_type": "markdown",
   "source": "# Prediction\n",
   "id": "88575dc06745142e"
  },
  {
   "metadata": {
    "ExecuteTime": {
     "end_time": "2024-06-12T12:19:06.534460Z",
     "start_time": "2024-06-12T12:19:06.531003Z"
    }
   },
   "cell_type": "code",
   "source": "regression.predict(Scaler.transform([[72]]))",
   "id": "cc53ddbefce03340",
   "outputs": [
    {
     "name": "stderr",
     "output_type": "stream",
     "text": [
      "/opt/homebrew/anaconda3/lib/python3.11/site-packages/sklearn/base.py:439: UserWarning: X does not have valid feature names, but StandardScaler was fitted with feature names\n",
      "  warnings.warn(\n"
     ]
    },
    {
     "data": {
      "text/plain": [
       "array([155.97744705])"
      ]
     },
     "execution_count": 53,
     "metadata": {},
     "output_type": "execute_result"
    }
   ],
   "execution_count": 53
  },
  {
   "metadata": {
    "ExecuteTime": {
     "end_time": "2024-06-12T12:19:36.811813Z",
     "start_time": "2024-06-12T12:19:36.808503Z"
    }
   },
   "cell_type": "code",
   "source": "model.predict(Scaler.transform([[72]]))",
   "id": "8073837e54931a5",
   "outputs": [
    {
     "name": "stderr",
     "output_type": "stream",
     "text": [
      "/opt/homebrew/anaconda3/lib/python3.11/site-packages/sklearn/base.py:439: UserWarning: X does not have valid feature names, but StandardScaler was fitted with feature names\n",
      "  warnings.warn(\n"
     ]
    },
    {
     "data": {
      "text/plain": [
       "array([-0.49314119])"
      ]
     },
     "execution_count": 54,
     "metadata": {},
     "output_type": "execute_result"
    }
   ],
   "execution_count": 54
  },
  {
   "metadata": {},
   "cell_type": "code",
   "outputs": [],
   "execution_count": null,
   "source": "",
   "id": "46282db263375f71"
  }
 ],
 "metadata": {
  "kernelspec": {
   "display_name": "Python 3",
   "language": "python",
   "name": "python3"
  },
  "language_info": {
   "codemirror_mode": {
    "name": "ipython",
    "version": 2
   },
   "file_extension": ".py",
   "mimetype": "text/x-python",
   "name": "python",
   "nbconvert_exporter": "python",
   "pygments_lexer": "ipython2",
   "version": "2.7.6"
  }
 },
 "nbformat": 4,
 "nbformat_minor": 5
}
